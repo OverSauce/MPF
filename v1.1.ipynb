{
 "cells": [
  {
   "cell_type": "code",
   "execution_count": 1,
   "metadata": {},
   "outputs": [
    {
     "name": "stdout",
     "output_type": "stream",
     "text": [
      "6,6,9,2,1,3,7,4,4,5\n"
     ]
    }
   ],
   "source": [
    "strx = \"\"\n",
    "\n",
    "with open(\"data.txt\",\"r\") as file:\n",
    "    for line in file:\n",
    "        strx += line.replace(\"\\n\",\"\")\n",
    "print(strx)"
   ]
  },
  {
   "cell_type": "code",
   "execution_count": 13,
   "metadata": {},
   "outputs": [
    {
     "name": "stdout",
     "output_type": "stream",
     "text": [
      "[[215.   0.   0.   0.   0.]\n",
      " [193. 124.   0.   0.   0.]\n",
      " [  5.   6.   5.   0.   0.]\n",
      " [  7.   9.  12.  16.   0.]\n",
      " [  1.  48.  51.  67.  96.]]\n",
      "Biggest sum is:  408\n",
      "Runtime:  0.0009970664978027344\n"
     ]
    }
   ],
   "source": [
    "sqn = [215, 193, 124, 5, 6, 5, 7, 9, 12,16, 1, 48, 51, 67, 96]\n",
    "\n",
    "\n",
    "\n",
    "\n",
    "# sqn2Matrix is to convert any sequence to lower triangular matrix, returns matrix as 2x2 array #\n",
    "\n",
    "\n",
    "import numpy as np                                           # NumPy for some math tools like triangular matrix\n",
    "import time\n",
    "\n",
    "def sqn2Matrix(sequence):\n",
    "    \n",
    "    dimension = 1 + int(np.ceil(np.sqrt(len(sequence))))\n",
    "\n",
    "    lowTriMatrix = np.tri(dimension, dimension, 0)\n",
    "    i = 0\n",
    "\n",
    "    for row in range(0, dimension, 1):\n",
    "        for column in range(0, dimension, 1):\n",
    "            \n",
    "                if lowTriMatrix[row][column] == 1:\n",
    "                    lowTriMatrix[row][column] = sqn[i]\n",
    "                    if i < len(sequence) - 1:\n",
    "                        i += 1\n",
    "    return lowTriMatrix, dimension\n",
    "\n",
    "# primeFinder is to find if a number is prime, returns logical output #\n",
    "\n",
    "def primeFinder(n):\n",
    "    \n",
    "    if n <= 1:\n",
    "        return False\n",
    "    if n == 2:\n",
    "        return True\n",
    "    if n > 2 and n % 2 == 0:\n",
    "        return False\n",
    "    \n",
    "    halfway_n = int(np.floor(np.sqrt(n)))\n",
    "    \n",
    "    for i in range(3, halfway_n + 1, 2):\n",
    "        if n % i == 0:\n",
    "            return False\n",
    "    \n",
    "    return True\n",
    "\n",
    "def pathFinder(Matrix):\n",
    "    \n",
    "    d = 5\n",
    "    count = 0\n",
    "    column = 0\n",
    "    row = 1\n",
    "    sum = 0\n",
    "\n",
    "    while count < d:   \n",
    "            if primeFinder(Matrix[count][column]) == False:\n",
    "                sum += np.maximum(Matrix[count][column], Matrix[count][column + 1]) \n",
    "            \n",
    "            if primeFinder(Matrix[count][column]) == True:\n",
    "                column += 1\n",
    "                sum += Matrix[count][column]\n",
    "            count += 1\n",
    "    return int(sum)\n",
    "\n",
    "\n",
    "\n",
    "\n",
    "####### definitions are done ########\n",
    "\n",
    "t0 = time.time()\n",
    "\n",
    "M, d = sqn2Matrix(sqn)\n",
    "\n",
    "print(M)\n",
    "\n",
    "print(\"Biggest sum is: \", pathFinder(M))\n",
    "\n",
    "t1 = time.time()\n",
    "print(\"Runtime: \", t1 - t0)"
   ]
  },
  {
   "cell_type": "code",
   "execution_count": null,
   "metadata": {},
   "outputs": [],
   "source": []
  }
 ],
 "metadata": {
  "kernelspec": {
   "display_name": "Python 3",
   "language": "python",
   "name": "python3"
  },
  "language_info": {
   "codemirror_mode": {
    "name": "ipython",
    "version": 3
   },
   "file_extension": ".py",
   "mimetype": "text/x-python",
   "name": "python",
   "nbconvert_exporter": "python",
   "pygments_lexer": "ipython3",
   "version": "3.8.5"
  }
 },
 "nbformat": 4,
 "nbformat_minor": 4
}
